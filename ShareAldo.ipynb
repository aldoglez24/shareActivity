{
 "cells": [
  {
   "cell_type": "code",
   "execution_count": 101,
   "metadata": {},
   "outputs": [],
   "source": [
    "\n",
    "import numpy as np\n",
    "import pandas as pd\n",
    "import matplotlib.pyplot as plt\n",
    "get_ipython().run_line_magic('matplotlib', 'inline')\n",
    "\n"
   ]
  },
  {
   "cell_type": "code",
   "execution_count": 102,
   "metadata": {},
   "outputs": [],
   "source": [
    "#Dataset de aguacates\n",
    "avocado = pd.read_csv('avocado.csv')"
   ]
  },
  {
   "cell_type": "code",
   "execution_count": 103,
   "metadata": {},
   "outputs": [
    {
     "data": {
      "text/html": [
       "<div>\n",
       "<style scoped>\n",
       "    .dataframe tbody tr th:only-of-type {\n",
       "        vertical-align: middle;\n",
       "    }\n",
       "\n",
       "    .dataframe tbody tr th {\n",
       "        vertical-align: top;\n",
       "    }\n",
       "\n",
       "    .dataframe thead th {\n",
       "        text-align: right;\n",
       "    }\n",
       "</style>\n",
       "<table border=\"1\" class=\"dataframe\">\n",
       "  <thead>\n",
       "    <tr style=\"text-align: right;\">\n",
       "      <th></th>\n",
       "      <th>Unnamed: 0</th>\n",
       "      <th>AveragePrice</th>\n",
       "      <th>Total Volume</th>\n",
       "      <th>4046</th>\n",
       "      <th>4225</th>\n",
       "      <th>4770</th>\n",
       "      <th>Total Bags</th>\n",
       "    </tr>\n",
       "  </thead>\n",
       "  <tbody>\n",
       "    <tr>\n",
       "      <th>0</th>\n",
       "      <td>0</td>\n",
       "      <td>1.33</td>\n",
       "      <td>64236.62</td>\n",
       "      <td>1036.74</td>\n",
       "      <td>54454.85</td>\n",
       "      <td>48.16</td>\n",
       "      <td>8696.87</td>\n",
       "    </tr>\n",
       "    <tr>\n",
       "      <th>1</th>\n",
       "      <td>1</td>\n",
       "      <td>1.35</td>\n",
       "      <td>54876.98</td>\n",
       "      <td>674.28</td>\n",
       "      <td>44638.81</td>\n",
       "      <td>58.33</td>\n",
       "      <td>9505.56</td>\n",
       "    </tr>\n",
       "    <tr>\n",
       "      <th>2</th>\n",
       "      <td>2</td>\n",
       "      <td>0.93</td>\n",
       "      <td>118220.22</td>\n",
       "      <td>794.70</td>\n",
       "      <td>109149.67</td>\n",
       "      <td>130.50</td>\n",
       "      <td>8145.35</td>\n",
       "    </tr>\n",
       "    <tr>\n",
       "      <th>3</th>\n",
       "      <td>3</td>\n",
       "      <td>1.08</td>\n",
       "      <td>78992.15</td>\n",
       "      <td>1132.00</td>\n",
       "      <td>71976.41</td>\n",
       "      <td>72.58</td>\n",
       "      <td>5811.16</td>\n",
       "    </tr>\n",
       "    <tr>\n",
       "      <th>4</th>\n",
       "      <td>4</td>\n",
       "      <td>1.28</td>\n",
       "      <td>51039.60</td>\n",
       "      <td>941.48</td>\n",
       "      <td>43838.39</td>\n",
       "      <td>75.78</td>\n",
       "      <td>6183.95</td>\n",
       "    </tr>\n",
       "  </tbody>\n",
       "</table>\n",
       "</div>"
      ],
      "text/plain": [
       "   Unnamed: 0  AveragePrice  Total Volume     4046       4225    4770  \\\n",
       "0           0          1.33      64236.62  1036.74   54454.85   48.16   \n",
       "1           1          1.35      54876.98   674.28   44638.81   58.33   \n",
       "2           2          0.93     118220.22   794.70  109149.67  130.50   \n",
       "3           3          1.08      78992.15  1132.00   71976.41   72.58   \n",
       "4           4          1.28      51039.60   941.48   43838.39   75.78   \n",
       "\n",
       "   Total Bags  \n",
       "0     8696.87  \n",
       "1     9505.56  \n",
       "2     8145.35  \n",
       "3     5811.16  \n",
       "4     6183.95  "
      ]
     },
     "execution_count": 103,
     "metadata": {},
     "output_type": "execute_result"
    }
   ],
   "source": [
    "#Encabezados\n",
    "avocado.head()"
   ]
  },
  {
   "cell_type": "code",
   "execution_count": 104,
   "metadata": {},
   "outputs": [
    {
     "data": {
      "text/plain": [
       "(18249, 7)"
      ]
     },
     "execution_count": 104,
     "metadata": {},
     "output_type": "execute_result"
    }
   ],
   "source": [
    "#Tamaño del dataset\n",
    "avocado.shape"
   ]
  },
  {
   "cell_type": "code",
   "execution_count": 105,
   "metadata": {},
   "outputs": [],
   "source": [
    "#get inputs values\n",
    "X = avocado.iloc[:, 0:6].values\n",
    "Y = avocado.iloc[0:, 6].values"
   ]
  },
  {
   "cell_type": "code",
   "execution_count": 106,
   "metadata": {},
   "outputs": [],
   "source": [
    "#transpuesta de Y\n",
    "Yfinal = np.zeros((18249, 1))\n",
    "count = 0\n",
    "for i in Y.transpose():\n",
    "    Yfinal[count, 0] = i\n",
    "    count=count+1"
   ]
  },
  {
   "cell_type": "code",
   "execution_count": 107,
   "metadata": {},
   "outputs": [
    {
     "name": "stdout",
     "output_type": "stream",
     "text": [
      "[[0.0000000e+00 1.3300000e+00 6.4236620e+04 1.0367400e+03 5.4454850e+04\n",
      "  4.8160000e+01]\n",
      " [1.0000000e+00 1.3500000e+00 5.4876980e+04 6.7428000e+02 4.4638810e+04\n",
      "  5.8330000e+01]\n",
      " [2.0000000e+00 9.3000000e-01 1.1822022e+05 7.9470000e+02 1.0914967e+05\n",
      "  1.3050000e+02]\n",
      " ...\n",
      " [9.0000000e+00 1.8700000e+00 1.3766760e+04 1.1919200e+03 2.4527900e+03\n",
      "  7.2794000e+02]\n",
      " [1.0000000e+01 1.9300000e+00 1.6205220e+04 1.5276300e+03 2.9810400e+03\n",
      "  7.2701000e+02]\n",
      " [1.1000000e+01 1.6200000e+00 1.7489580e+04 2.8947700e+03 2.3561300e+03\n",
      "  2.2453000e+02]]\n",
      "[[ 8696.87]\n",
      " [ 9505.56]\n",
      " [ 8145.35]\n",
      " ...\n",
      " [ 9394.11]\n",
      " [10969.54]\n",
      " [12014.15]]\n"
     ]
    }
   ],
   "source": [
    "#Pruebas\n",
    "print(X)\n",
    "print(Yfinal)"
   ]
  },
  {
   "cell_type": "code",
   "execution_count": 108,
   "metadata": {},
   "outputs": [
    {
     "name": "stdout",
     "output_type": "stream",
     "text": [
      "[[0.00000000e+00 2.12780776e-08 1.02769307e-03 1.65863415e-05\n",
      "  8.71198892e-04 7.70490391e-07]\n",
      " [1.59985546e-08 2.15980487e-08 8.77952362e-04 1.07875054e-05\n",
      "  7.14156440e-04 9.33195691e-07]\n",
      " [3.19971092e-08 1.48786558e-08 1.89135265e-03 1.27140514e-05\n",
      "  1.74623696e-03 2.08781138e-06]\n",
      " ...\n",
      " [1.43986992e-07 2.99172971e-08 2.20248262e-04 1.90689972e-05\n",
      "  3.92410948e-05 1.16459879e-05]\n",
      " [1.59985546e-07 3.08772104e-08 2.59260097e-04 2.44398720e-05\n",
      "  4.76923313e-05 1.16311092e-05]\n",
      " [1.75984101e-07 2.59176585e-08 2.79808001e-04 4.63121360e-05\n",
      "  3.76946745e-05 3.59215547e-06]]\n"
     ]
    }
   ],
   "source": [
    "#Normalizar X y Y\n",
    "Xn = X/X.max()\n",
    "print(Xn)\n",
    "\n"
   ]
  },
  {
   "cell_type": "code",
   "execution_count": 109,
   "metadata": {},
   "outputs": [
    {
     "name": "stdout",
     "output_type": "stream",
     "text": [
      "[[ 86.9687]\n",
      " [ 95.0556]\n",
      " [ 81.4535]\n",
      " ...\n",
      " [ 93.9411]\n",
      " [109.6954]\n",
      " [120.1415]]\n"
     ]
    }
   ],
   "source": [
    "#normalizar Yfinal\n",
    "yn = Yfinal/100\n",
    "print(yn)\n"
   ]
  },
  {
   "cell_type": "code",
   "execution_count": 110,
   "metadata": {},
   "outputs": [
    {
     "data": {
      "text/plain": [
       "array([ 86.9687,  95.0556,  81.4535, ...,  93.9411, 109.6954, 120.1415])"
      ]
     },
     "execution_count": 110,
     "metadata": {},
     "output_type": "execute_result"
    }
   ],
   "source": [
    "#Todas en la misma fila\n",
    "yn.ravel()\n"
   ]
  },
  {
   "cell_type": "code",
   "execution_count": 111,
   "metadata": {},
   "outputs": [],
   "source": [
    "#red neuronal basica\n",
    "class RedNeuronal():\n",
    "    def __init__(self):\n",
    "        self.inputs = 6\n",
    "        self.outputs = 1\n",
    "        self.hidden = 5\n",
    "        self.W1 = np.random.rand(self.inputs, self.hidden)\n",
    "        self.W2 = np.random.rand(self.hidden, self.outputs)\n",
    "    def sigmoide(self, Z):\n",
    "        return 1 / (1 + np.exp(-Z))\n",
    "    def feedForward(self, X):\n",
    "        self.Z2 =  X @ self.W1  #XW1\n",
    "        self.a2 =  self.sigmoide(self.Z2)   #f(Z2)\n",
    "        self.Z3 =   self.a2 @ self.W2 #a2W2\n",
    "        self.yhat =  self.sigmoide(self.Z3)#f(Z3)\n",
    "        return self.yhat\n",
    "    def sigmoideDerivada(self, Z):\n",
    "        return np.exp(-Z)/((1+np.exp(-Z))**2)\n",
    "    \n",
    "    def funcionCosto(self, X, y):\n",
    "        self.yhat = self.feedForward(X)\n",
    "        Costo = 0.5*sum((y-self.yhat)**2)\n",
    "        return Costo\n",
    "    \n",
    "    def funcionDeCostoDerivada(self, X, y):\n",
    "        #Predicciones\n",
    "        self.yhat = self.feedForward(X)\n",
    "        #delta3 = diferencia de y -yhat * derivadaFuncionActivacion\n",
    "        self.delta3 = np.multiply( -(y-self.yhat),                                  self.sigmoideDerivada(self.Z3))\n",
    "        \n",
    "        #djW2 = producto transpuesta a2 * delta 3\n",
    "        djW2 = self.a2.T @ self.delta3\n",
    "        \n",
    "        #delta2 = delta3 * transpuesta W2 * sigmoideDerivada Z2\n",
    "        self.delta2 = self.delta3@self.W2.T *self.sigmoideDerivada(self.Z2)\n",
    "        #djDW1 delta2 * trasnpuesta X\n",
    "        djW1 = X.T @ self.delta2 \n",
    "        \n",
    "        return djW1, djW2\n",
    "    def getPesos(self):\n",
    "        data = np.concatenate((self.W1.ravel(), self.W2.ravel()))\n",
    "        return data\n",
    "   \n",
    "    def setPesos(self, datos):\n",
    "        W1_inicio = 0\n",
    "        W1_fin = self.hidden * self.inputs\n",
    "        self.W1 = np.reshape(datos[W1_inicio:W1_fin], (self.inputs , self.hidden))\n",
    "        W2_fin = W1_fin + self.hidden*self.outputs\n",
    "        self.W2 = np.reshape(datos[W1_fin:W2_fin], (self.hidden, self.outputs))\n",
    "   \n",
    "    def getGradientes(self, X, y):\n",
    "        djW1, djW2 = self.funcionDeCostoDerivada(X, y)\n",
    "        return np.concatenate((djW1.ravel(), djW2.ravel()))\n"
   ]
  },
  {
   "cell_type": "code",
   "execution_count": 112,
   "metadata": {},
   "outputs": [
    {
     "name": "stdout",
     "output_type": "stream",
     "text": [
      "[9.39832317e+11]\n"
     ]
    }
   ],
   "source": [
    "#Costo  y error\n",
    "rn = RedNeuronal()\n",
    "error = rn.funcionCosto(Xn, yn)\n",
    "print(error)"
   ]
  },
  {
   "cell_type": "code",
   "execution_count": 113,
   "metadata": {},
   "outputs": [
    {
     "name": "stdout",
     "output_type": "stream",
     "text": [
      "[[-6.02206801e-01 -2.83219112e-01 -6.13258327e-02 -2.00924220e-01\n",
      "  -4.86368751e-01]\n",
      " [-2.80399694e-02 -1.31725249e-02 -2.85135261e-03 -9.37384124e-03\n",
      "  -2.26739703e-02]\n",
      " [-3.18847709e+05 -1.53269202e+05 -3.32355461e+04 -1.03646460e+05\n",
      "  -2.52428495e+05]\n",
      " [-1.11456534e+05 -5.35771021e+04 -1.16164189e+04 -3.62379497e+04\n",
      "  -8.82404775e+04]\n",
      " [-1.04749111e+05 -5.03458761e+04 -1.09218313e+04 -3.40177060e+04\n",
      "  -8.29103620e+04]\n",
      " [-8.15177270e+03 -3.91809112e+03 -8.50408055e+02 -2.64304892e+03\n",
      "  -6.44855590e+03]]\n",
      "[[-3900942.74106892]\n",
      " [-3782913.37014367]\n",
      " [-3772017.58825658]\n",
      " [-4000382.21084329]\n",
      " [-3979104.51391602]]\n"
     ]
    }
   ],
   "source": [
    "#Derivadas\n",
    "\n",
    "\n",
    "\n",
    "djW1, djW2 = rn.funcionDeCostoDerivada(Xn,yn)\n",
    "\n",
    "print(djW1)\n",
    "\n",
    "\n",
    "print(djW2)"
   ]
  },
  {
   "cell_type": "code",
   "execution_count": 114,
   "metadata": {},
   "outputs": [],
   "source": [
    "#Entrenador \n",
    "from scipy import optimize\n",
    "class Entrenador:\n",
    "    def __init__(self, unaRed):\n",
    "        #referencia a una red local\n",
    "        self.NN = unaRed\n",
    "       \n",
    "    def actualizaPesos(self, params):\n",
    "        self.NN.setPesos(params)\n",
    "        self.Costos.append(self.NN.funcionCosto(self.X, self.y))  \n",
    "       \n",
    "    def obtenPesosNN(self, params, X, y):\n",
    "        self.NN.setPesos(params)\n",
    "        cost = self.NN.funcionCosto(X, y)\n",
    "        grad = self.NN.getGradientes(X,y)        \n",
    "        return cost, grad\n",
    "       \n",
    "    def entrena(self, X, y):\n",
    "        # variables para funciones callback\n",
    "        self.X = X\n",
    "        self.y = y\n",
    "        \n",
    "        # lista temporal de costos\n",
    "        self.Costos = []\n",
    "        pesos = self.NN.getPesos()\n",
    " \n",
    "        opciones = {'maxiter': 200, 'disp' : True}\n",
    "        \n",
    "        #self.obtenPesosNN, funcion objetivo\n",
    "        #args=(X, y), input / output data\n",
    "        # salida, regresa el costo y los gradientes\n",
    "        salida = optimize.minimize(self.obtenPesosNN, pesos, jac=True, method='BFGS',                                  args=(X, y), options=opciones, callback=self.actualizaPesos)\n",
    " \n",
    "        self.NN.setPesos(salida.x)\n",
    "        self.resultados = salida\n",
    "\n"
   ]
  },
  {
   "cell_type": "code",
   "execution_count": 115,
   "metadata": {},
   "outputs": [
    {
     "name": "stderr",
     "output_type": "stream",
     "text": [
      "C:\\Users\\Aldo\\AppData\\Roaming\\Python\\Python36\\site-packages\\ipykernel_launcher.py:18: RuntimeWarning: overflow encountered in square\n",
      "C:\\Users\\Aldo\\AppData\\Roaming\\Python\\Python36\\site-packages\\ipykernel_launcher.py:10: RuntimeWarning: overflow encountered in exp\n",
      "  # Remove the CWD from sys.path while we load stuff.\n",
      "C:\\Users\\Aldo\\AppData\\Roaming\\Python\\Python36\\site-packages\\ipykernel_launcher.py:18: RuntimeWarning: overflow encountered in exp\n",
      "C:\\Users\\Aldo\\AppData\\Roaming\\Python\\Python36\\site-packages\\ipykernel_launcher.py:18: RuntimeWarning: invalid value encountered in true_divide\n",
      "C:\\Users\\Aldo\\AppData\\Roaming\\Python\\Python36\\site-packages\\ipykernel_launcher.py:10: RuntimeWarning: overflow encountered in exp\n",
      "  # Remove the CWD from sys.path while we load stuff.\n",
      "C:\\Users\\Aldo\\AppData\\Roaming\\Python\\Python36\\site-packages\\ipykernel_launcher.py:18: RuntimeWarning: overflow encountered in exp\n",
      "C:\\Users\\Aldo\\AppData\\Roaming\\Python\\Python36\\site-packages\\ipykernel_launcher.py:18: RuntimeWarning: overflow encountered in square\n",
      "C:\\Users\\Aldo\\AppData\\Roaming\\Python\\Python36\\site-packages\\ipykernel_launcher.py:18: RuntimeWarning: invalid value encountered in true_divide\n"
     ]
    },
    {
     "name": "stdout",
     "output_type": "stream",
     "text": [
      "Warning: Desired error not necessarily achieved due to precision loss.\n",
      "         Current function value: 939823316785.347656\n",
      "         Iterations: 29\n",
      "         Function evaluations: 66\n",
      "         Gradient evaluations: 54\n"
     ]
    }
   ],
   "source": [
    "#Entrenamos la red\n",
    "nn = RedNeuronal()\n",
    "e = Entrenador(nn)\n",
    "e.entrena(Xn, yn)\n"
   ]
  },
  {
   "cell_type": "code",
   "execution_count": 116,
   "metadata": {},
   "outputs": [
    {
     "data": {
      "image/png": "[encoded data removed]",
      "text/plain": [
       "<Figure size 432x288 with 1 Axes>"
      ]
     },
     "metadata": {},
     "output_type": "display_data"
    }
   ],
   "source": [
    "#Gráfica de iteración contra costo\n",
    "plt.plot(e.Costos)\n",
    "plt.grid()\n",
    "plt.ylabel(\"costo\")\n",
    "plt.xlabel(\"iteracion\")\n",
    "plt.show()"
   ]
  },
  {
   "cell_type": "code",
   "execution_count": 117,
   "metadata": {},
   "outputs": [
    {
     "name": "stdout",
     "output_type": "stream",
     "text": [
      "[[ 4.   5.5  4.   6.   8.   1. ]\n",
      " [ 4.5  1.  12.   6.  12.   6. ]\n",
      " [ 9.   2.5  3.   5.   7.   1. ]\n",
      " [ 6.   2.   7.   3.   4.   8. ]]\n",
      "[[0.3        1.         0.8        1.         0.11111111 0.16666667]\n",
      " [0.5        0.2        0.8        0.11111111 0.33333333 0.41666667]\n",
      " [1.         0.4        1.         0.22222222 0.44444444 0.41666667]\n",
      " [0.6        0.3        0.4        0.66666667 1.         1.        ]]\n"
     ]
    }
   ],
   "source": [
    "\n",
    "#Entrenamiento\n",
    "trainX = np.array(([3,5,8,9,1,2], [5,1,8,1,3,5], [10,2, 10, 2,4,5], [6,1.5, 4,6,9,12]), dtype=float)\n",
    "trainY = np.array(([1], [0], [0], [0]), dtype=float)\n",
    "\n",
    "#Pruebas\n",
    "testX = np.array(([4, 5.5, 4,6,8,1], [4.5,1,12,6,12,6], [9,2.5,3,5,7,1], [6, 2,7,3,4,8]), dtype=float)\n",
    "testY = np.array(([0], [0], [0], [1]), dtype=float)\n",
    "\n",
    "#Normalización\n",
    "trainX = trainX/np.amax(trainX, axis=0)\n",
    "trainY = trainY/100 \n",
    "\n",
    "testX = testX/np.amax(trainX, axis=0)\n",
    "testY = testY/100\n",
    "print(testX)\n",
    "print(trainX)"
   ]
  },
  {
   "cell_type": "code",
   "execution_count": 118,
   "metadata": {},
   "outputs": [],
   "source": [
    "\n",
    "\n",
    "from scipy import optimize\n",
    "class Entrenador:\n",
    "    def __init__(self, unaRed):\n",
    "        #referencia a una red local\n",
    "        self.NN = unaRed\n",
    "       \n",
    "    def actualizaPesos(self, params):\n",
    "        self.NN.setPesos(params)\n",
    "        self.Costos.append(self.NN.funcionCosto(self.X, self.y))  \n",
    "        self.CostosTest.append(             self.NN.funcionCosto(self.Xtest, self.ytest))\n",
    "       \n",
    "    def obtenPesosNN(self, params, X, y):\n",
    "        self.NN.setPesos(params)\n",
    "        cost = self.NN.funcionCosto(X, y)\n",
    "        grad = self.NN.getGradientes(X,y)        \n",
    "        return cost, grad\n",
    "       \n",
    "    def entrena(self, Xtrain, ytrain, Xtest, ytest):\n",
    "        # variables para funciones callback\n",
    "        self.X = Xtrain\n",
    "        self.y = ytrain\n",
    "        \n",
    "        self.Xtest = Xtest\n",
    "        self.ytest = ytest\n",
    "        \n",
    "        # lista temporal de costos\n",
    "        self.Costos = []\n",
    "        self.CostosTest = []\n",
    "        \n",
    "        pesos = self.NN.getPesos()\n",
    " \n",
    "        opciones = {'maxiter': 200, 'disp' : True}\n",
    "        \n",
    "        #self.obtenPesosNN, funcion objetivo\n",
    "        #args=(X, y), input / output data\n",
    "        # salida, regresa el costo y los gradientes\n",
    "        salida = optimize.minimize(self.obtenPesosNN, pesos, jac=True, method='BFGS',                                  args=(Xtrain, ytrain),                                    options=opciones,                                    callback=self.actualizaPesos)\n",
    " \n",
    "        self.NN.setPesos(salida.x)\n",
    "        self.resultados = salida\n"
   ]
  },
  {
   "cell_type": "code",
   "execution_count": 119,
   "metadata": {},
   "outputs": [
    {
     "name": "stdout",
     "output_type": "stream",
     "text": [
      "Optimization terminated successfully.\n",
      "         Current function value: 0.000041\n",
      "         Iterations: 1\n",
      "         Function evaluations: 4\n",
      "         Gradient evaluations: 4\n"
     ]
    },
    {
     "data": {
      "image/png": "[encoded data removed]",
      "text/plain": [
       "<Figure size 432x288 with 1 Axes>"
      ]
     },
     "metadata": {},
     "output_type": "display_data"
    }
   ],
   "source": [
    "#Entrenamos\n",
    "\n",
    "nn = RedNeuronal()\n",
    "e = Entrenador(nn)\n",
    "e.entrena(trainX, trainY, testX, testY)\n",
    "\n",
    "\n",
    "plt.plot(e.Costos)\n",
    "plt.plot(e.CostosTest)\n",
    "plt.grid(1)\n",
    "plt.ylabel(\"costo\")\n",
    "plt.xlabel(\"iteraciones\")\n",
    "plt.show()"
   ]
  },
  {
   "cell_type": "code",
   "execution_count": 120,
   "metadata": {},
   "outputs": [],
   "source": [
    "\n",
    "class RedNeuronal():\n",
    "    def __init__(self, Lambda = 0):\n",
    "        self.inputs = 6\n",
    "        self.outputs = 1\n",
    "        self.hidden = 3\n",
    "        self.W1 = np.random.rand(self.inputs, self.hidden)\n",
    "        self.W2 = np.random.rand(self.hidden, self.outputs)\n",
    "        self.Lambda = Lambda\n",
    "        \n",
    "    def sigmoide(self, Z):\n",
    "        return 1 / (1 + np.exp(-Z))\n",
    "    def feedForward(self, X):\n",
    "        self.Z2 =  X @ self.W1  #XW1\n",
    "        self.a2 =  self.sigmoide(self.Z2)   #f(Z2)\n",
    "        self.Z3 =   self.a2 @ self.W2 #a2W2\n",
    "        self.yhat =  self.sigmoide(self.Z3)#f(Z3)\n",
    "        return self.yhat\n",
    "    def sigmoideDerivada(self, Z):\n",
    "        return np.exp(-Z)/((1+np.exp(-Z))**2)\n",
    "    \n",
    "    def funcionCosto(self, X, y):\n",
    "        self.yhat = self.feedForward(X)\n",
    "        Costo = 0.5*sum((y-self.yhat)**2)/X.shape[0] + (self.Lambda/2)         * (np.sum(self.W1**2) + np.sum(self.W2**2))\n",
    "        return Costo\n",
    "    \n",
    "    def funcionDeCostoDerivada(self, X, y):\n",
    "        #Predicciones\n",
    "        self.yhat = self.feedForward(X)\n",
    "        #delta3 = diferencia de y -yhat * derivadaFuncionActivacion\n",
    "        self.delta3 = np.multiply( -(y-self.yhat),                                  self.sigmoideDerivada(self.Z3))\n",
    "        \n",
    "        #djW2 = producto transpuesta a2 * delta 3\n",
    "        djW2 = (self.a2.T @ self.delta3) / X.shape[0] + (self.Lambda* self.W2)\n",
    "        \n",
    "        #delta2 = delta3 * transpuesta W2 * sigmoideDerivada Z2\n",
    "        self.delta2 = self.delta3@self.W2.T *self.sigmoideDerivada(self.Z2)\n",
    "        #djDW1 delta2 * trasnpuesta X\n",
    "        djW1 = X.T @ self.delta2 / X.shape[0] + (self.Lambda* self.W1) \n",
    "\n",
    "        return djW1, djW2\n",
    "    def getPesos(self):\n",
    "        data = np.concatenate((self.W1.ravel(), self.W2.ravel()))\n",
    "        return data\n",
    "   \n",
    "    def setPesos(self, datos):\n",
    "        W1_inicio = 0\n",
    "        W1_fin = self.hidden * self.inputs\n",
    "        self.W1 = np.reshape(datos[W1_inicio:W1_fin], (self.inputs , self.hidden))\n",
    "        W2_fin = W1_fin + self.hidden*self.outputs\n",
    "        self.W2 = np.reshape(datos[W1_fin:W2_fin], (self.hidden, self.outputs))\n",
    "   \n",
    "    def getGradientes(self, X, y):\n",
    "        djW1, djW2 = self.funcionDeCostoDerivada(X, y)\n",
    "        return np.concatenate((djW1.ravel(), djW2.ravel()))\n",
    "\n"
   ]
  },
  {
   "cell_type": "code",
   "execution_count": 121,
   "metadata": {},
   "outputs": [
    {
     "name": "stdout",
     "output_type": "stream",
     "text": [
      "Optimization terminated successfully.\n",
      "         Current function value: 0.000703\n",
      "         Iterations: 37\n",
      "         Function evaluations: 41\n",
      "         Gradient evaluations: 41\n"
     ]
    },
    {
     "data": {
      "image/png": "[encoded data removed]",
      "text/plain": [
       "<Figure size 432x288 with 1 Axes>"
      ]
     },
     "metadata": {},
     "output_type": "display_data"
    }
   ],
   "source": [
    "#Con la red entrenada volvemos a comparar\n",
    "\n",
    "nn = RedNeuronal(Lambda=0.0001)\n",
    "e = Entrenador(nn)\n",
    "e.entrena(trainX, trainY, testX, testY)\n",
    "\n",
    "\n",
    "plt.plot(e.Costos)\n",
    "plt.plot(e.CostosTest)\n",
    "plt.grid(1)\n",
    "plt.ylabel(\"costo\")\n",
    "plt.xlabel(\"iteraciones\")\n",
    "plt.legend(['entrenamiento', 'otro'])\n",
    "plt.show()"
   ]
  },
  {
   "cell_type": "code",
   "execution_count": null,
   "metadata": {},
   "outputs": [],
   "source": []
  },
  {
   "cell_type": "code",
   "execution_count": null,
   "metadata": {},
   "outputs": [],
   "source": []
  },
  {
   "cell_type": "code",
   "execution_count": null,
   "metadata": {},
   "outputs": [],
   "source": []
  },
  {
   "cell_type": "code",
   "execution_count": null,
   "metadata": {},
   "outputs": [],
   "source": []
  },
  {
   "cell_type": "code",
   "execution_count": null,
   "metadata": {},
   "outputs": [],
   "source": []
  },
  {
   "cell_type": "code",
   "execution_count": null,
   "metadata": {},
   "outputs": [],
   "source": []
  }
 ],
 "metadata": {
  "kernelspec": {
   "display_name": "Python 3",
   "language": "python",
   "name": "python3"
  },
  "language_info": {
   "codemirror_mode": {
    "name": "ipython",
    "version": 3
   },
   "file_extension": ".py",
   "mimetype": "text/x-python",
   "name": "python",
   "nbconvert_exporter": "python",
   "pygments_lexer": "ipython3",
   "version": "3.6.5"
  }
 },
 "nbformat": 4,
 "nbformat_minor": 2
}
